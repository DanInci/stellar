{
 "cells": [
  {
   "cell_type": "code",
   "execution_count": null,
   "id": "3be1a1d5",
   "metadata": {},
   "outputs": [],
   "source": [
    "import os\n",
    "import json\n",
    "import argparse\n",
    "import numpy as np\n",
    "import torch\n",
    "import pandas as pd\n",
    "import anndata\n",
    "import scanpy as sc\n",
    "import pickle\n",
    "\n",
    "from STELLAR import STELLAR\n",
    "from datasets import GraphDataset\n",
    "from matplotlib import pyplot as plt\n",
    "from sklearn.metrics import pairwise_distances"
   ]
  },
  {
   "cell_type": "code",
   "execution_count": null,
   "id": "27c5170d",
   "metadata": {},
   "outputs": [],
   "source": [
    "import sys\n",
    "sys.path.append(\"../\")"
   ]
  },
  {
   "cell_type": "markdown",
   "id": "68d12b26",
   "metadata": {},
   "source": [
    "### Setting default parameters"
   ]
  },
  {
   "cell_type": "code",
   "execution_count": null,
   "id": "018542ad",
   "metadata": {},
   "outputs": [],
   "source": [
    "EXPERIMENT_DIR = \"/home/dani/Documents/Thesis/Methods/IMCBenchmark/output/stellar_seurat\"\n",
    "CONFIG_PATH = os.path.join(EXPERIMENT_DIR, 'config.json')\n",
    "\n",
    "# load the params\n",
    "with open(CONFIG_PATH) as f:\n",
    "    config = json.load(f)"
   ]
  },
  {
   "cell_type": "code",
   "execution_count": null,
   "id": "3f1e76d0",
   "metadata": {},
   "outputs": [],
   "source": [
    "parser = argparse.ArgumentParser(description='STELLAR')\n",
    "\n",
    "args = parser.parse_args(args=[])\n",
    "args.train_dataset = config['train_dataset']\n",
    "args.val_dataset = config['val_dataset']\n",
    "args.epochs = config['epochs']\n",
    "args.lr = config['lr']\n",
    "args.wd = config['wd']\n",
    "args.sample_rate = config['sample_rate']\n",
    "args.batch_size = config['batch_size']\n",
    "args.distance_threshold = config['distance_threshold']\n",
    "args.num_heads = config['num_heads']\n",
    "args.seed = config['seed']\n",
    "args.num_heads = config['num_heads']\n",
    "args.num_seed_class = config['num_seed_class']\n",
    "args.cuda = torch.cuda.is_available()\n",
    "args.device = torch.device(\"cuda\" if args.cuda else \"cpu\")\n",
    "args.use_processed_graph = True"
   ]
  },
  {
   "cell_type": "code",
   "execution_count": null,
   "id": "2e37b11b",
   "metadata": {},
   "outputs": [],
   "source": [
    "args"
   ]
  },
  {
   "cell_type": "markdown",
   "id": "43fb7957",
   "metadata": {},
   "source": [
    "### Preparing dataset"
   ]
  },
  {
   "cell_type": "code",
   "execution_count": null,
   "id": "e7da87d8",
   "metadata": {},
   "outputs": [],
   "source": [
    "def create_labels_dict(train_df, val_df):\n",
    "    train_labels = list(set(train_df['cell_type']))\n",
    "    val_labels = list(set(val_df['cell_type']))\n",
    "    labels = list(set(train_labels + val_labels))\n",
    "    \n",
    "    cell_types = np.sort(labels).tolist()\n",
    "    cell_type_dict = {}\n",
    "    inverse_dict = {}    \n",
    "    for i, cell_type in enumerate(cell_types):\n",
    "        cell_type_dict[cell_type] = i\n",
    "        inverse_dict[i] = cell_type\n",
    "        \n",
    "    return cell_type_dict, inverse_dict"
   ]
  },
  {
   "cell_type": "code",
   "execution_count": null,
   "id": "5772a106",
   "metadata": {},
   "outputs": [],
   "source": [
    "train_df = pd.read_csv(args.train_dataset)\n",
    "train_df = train_df[train_df['cell_type'] != 'unlabeled'].reset_index(drop=True)\n",
    "val_df = pd.read_csv(args.val_dataset)\n",
    "val_df = val_df[val_df['cell_type'] != 'unlabeled'].reset_index(drop=True)\n",
    "\n",
    "cell_type_dict, inverse_dict = create_labels_dict(train_df, val_df)\n",
    "\n",
    "train_df['cell_type'] = train_df['cell_type'].map(cell_type_dict)"
   ]
  },
  {
   "cell_type": "code",
   "execution_count": null,
   "id": "fc6c499e",
   "metadata": {
    "scrolled": true
   },
   "outputs": [],
   "source": [
    "train_df.head()"
   ]
  },
  {
   "cell_type": "markdown",
   "id": "92210779",
   "metadata": {},
   "source": [
    "#### Compute graph between cells"
   ]
  },
  {
   "cell_type": "code",
   "execution_count": null,
   "id": "bb3a85a2",
   "metadata": {},
   "outputs": [],
   "source": [
    "def get_own_edge_index(pos, distance_threshold):\n",
    "    edge_list = []\n",
    "    dists = pairwise_distances(pos)\n",
    "    dists_mask = dists < distance_threshold\n",
    "    np.fill_diagonal(dists_mask, 0)\n",
    "    edge_list = np.transpose(np.nonzero(dists_mask)).tolist()\n",
    "    return edge_list\n",
    "\n",
    "\n",
    "def prepare_graph(train_df, test_df, distance_threshold, sample_rate):\n",
    "    train_df = train_df.sample(n=round(sample_rate*len(train_df)), random_state=1)\n",
    "    train_X = train_df.iloc[:, 9:].values\n",
    "    test_X = test_df.iloc[:, 9:].values\n",
    "    train_y = train_df['cell_type'].values\n",
    "    labeled_pos = train_df[['x', 'y']].values\n",
    "    unlabeled_pos = test_df[['x', 'y']].values\n",
    "    labeled_edges = get_own_edge_index(labeled_pos, distance_threshold)\n",
    "    unlabeled_edges = get_own_edge_index(unlabeled_pos, distance_threshold)\n",
    "    \n",
    "    return train_X, train_y, test_X, labeled_edges, unlabeled_edges"
   ]
  },
  {
   "cell_type": "code",
   "execution_count": null,
   "id": "a8e47d14",
   "metadata": {},
   "outputs": [],
   "source": [
    "PROCESSED_GRAPH_FILE = os.path.join(EXPERIMENT_DIR, \"dataset_preprocessed.pkl\")\n",
    "\n",
    "if args.use_processed_graph and os.path.exists(PROCESSED_GRAPH_FILE):\n",
    "    packed_graph = pickle.load(open(PROCESSED_GRAPH_FILE, \"rb\" ))\n",
    "else:\n",
    "    packed_graph = prepare_graph(train_df, val_df, args.distance_threshold, args.sample_rate)\n",
    "    \n",
    "    # save to .pkl \n",
    "    with open(PROCESSED_GRAPH_FILE, 'wb') as file:\n",
    "        pickle.dump(packed_graph, file)\n",
    "\n",
    "labeled_X, labeled_y, unlabeled_X, labeled_edges, unlabeled_edges = packed_graph\n",
    "dataset = GraphDataset(labeled_X, labeled_y, unlabeled_X, labeled_edges, unlabeled_edges)"
   ]
  },
  {
   "cell_type": "markdown",
   "id": "5444055c",
   "metadata": {},
   "source": [
    "### Training"
   ]
  },
  {
   "cell_type": "code",
   "execution_count": null,
   "id": "24f2934a",
   "metadata": {},
   "outputs": [],
   "source": [
    "stellar = STELLAR(args, dataset)\n",
    "stellar.train()"
   ]
  },
  {
   "cell_type": "markdown",
   "id": "b4cea264",
   "metadata": {},
   "source": [
    "### Validation"
   ]
  },
  {
   "cell_type": "code",
   "execution_count": null,
   "id": "93c8b15a",
   "metadata": {},
   "outputs": [],
   "source": [
    "_, pred_prob, pred_prob_list, pred_labels = stellar.pred()\n",
    "pred_labels = pred_labels.astype('object')\n",
    "\n",
    "for i in range(len(pred_labels)):\n",
    "    if pred_labels[i] in inverse_dict.keys():\n",
    "        pred_labels[i] = inverse_dict[pred_labels[i]]\n",
    "\n",
    "results_df = val_df[['sample_id', 'object_id', 'cell_type']].copy()\n",
    "results_df['pred'] = pred_labels.tolist()\n",
    "results_df['pred_prob'] = pred_prob.tolist()\n",
    "results_df['prob_list'] = pred_prob_list.tolist()\n",
    "results_df.rename(columns = {\n",
    "    'sample_id': 'image_id',\n",
    "    'object_id': 'cell_id',\n",
    "    'cell_type': 'label'\n",
    "}, inplace = True)\n",
    "\n",
    "results_df.to_csv(os.path.join(EXPERIMENT_DIR, 'stellar_results.csv'), index=False)\n",
    "\n",
    "results_df.head()"
   ]
  },
  {
   "cell_type": "markdown",
   "id": "a07585e1",
   "metadata": {},
   "source": [
    "### Visualizing results"
   ]
  },
  {
   "cell_type": "markdown",
   "id": "9b67f0db",
   "metadata": {},
   "source": [
    "Cells are colored according to predicted cell types. Novel classes are denoted with numbers."
   ]
  },
  {
   "cell_type": "code",
   "execution_count": null,
   "id": "6dcc8aef",
   "metadata": {},
   "outputs": [],
   "source": [
    "adata = anndata.AnnData(unlabeled_X)\n",
    "adata.obs['pred'] = pd.Categorical(pred_labels)\n",
    "\n",
    "sc.pp.neighbors(adata)\n",
    "sc.tl.umap(adata)\n",
    "fig = sc.pl.umap(adata, color=['pred'], size=5, return_fig=True)\n",
    "\n",
    "fig.savefig(os.path.join(EXPERIMENT_DIR, 'UMAP_predictions.pdf'), format=\"pdf\", bbox_inches=\"tight\")"
   ]
  }
 ],
 "metadata": {
  "kernelspec": {
   "display_name": "stellar",
   "language": "python",
   "name": "stellar"
  },
  "language_info": {
   "codemirror_mode": {
    "name": "ipython",
    "version": 3
   },
   "file_extension": ".py",
   "mimetype": "text/x-python",
   "name": "python",
   "nbconvert_exporter": "python",
   "pygments_lexer": "ipython3",
   "version": "3.8.16"
  }
 },
 "nbformat": 4,
 "nbformat_minor": 5
}
